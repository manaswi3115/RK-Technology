{
  "nbformat": 4,
  "nbformat_minor": 0,
  "metadata": {
    "colab": {
      "provenance": [],
      "authorship_tag": "ABX9TyOjBS4Ul4k7yKcX93FHRy87",
      "include_colab_link": true
    },
    "kernelspec": {
      "name": "python3",
      "display_name": "Python 3"
    },
    "language_info": {
      "name": "python"
    }
  },
  "cells": [
    {
      "cell_type": "markdown",
      "metadata": {
        "id": "view-in-github",
        "colab_type": "text"
      },
      "source": [
        "<a href=\"https://colab.research.google.com/github/manaswi3115/RK-Technology/blob/main/Untitled4.ipynb\" target=\"_parent\"><img src=\"https://colab.research.google.com/assets/colab-badge.svg\" alt=\"Open In Colab\"/></a>"
      ]
    },
    {
      "cell_type": "code",
      "execution_count": null,
      "metadata": {
        "id": "59mu5kGbut97"
      },
      "outputs": [],
      "source": [
        "import pandas as pd\n",
        "import numpy as np"
      ]
    },
    {
      "cell_type": "code",
      "source": [
        "from sklearn.datasets import load_iris\n",
        "from sklearn.model_selection import train_test_split\n",
        "from sklearn.neighbors import KNeighborsClassifier\n",
        "from sklearn import metrics"
      ],
      "metadata": {
        "id": "FFBXE3OLvDBV"
      },
      "execution_count": null,
      "outputs": []
    },
    {
      "cell_type": "code",
      "source": [
        "iris=load_iris()\n",
        "df=pd.DataFrame(iris['data'])\n",
        "print(\"Keys=\",iris.keys())"
      ],
      "metadata": {
        "colab": {
          "base_uri": "https://localhost:8080/"
        },
        "id": "5RlDI_qwvDUL",
        "outputId": "0eb68936-34c2-40de-eef1-8954d55fdbcf"
      },
      "execution_count": null,
      "outputs": [
        {
          "output_type": "stream",
          "name": "stdout",
          "text": [
            "Keys= dict_keys(['data', 'target', 'frame', 'target_names', 'DESCR', 'feature_names', 'filename', 'data_module'])\n"
          ]
        }
      ]
    },
    {
      "cell_type": "code",
      "source": [
        "print(\"Features=\",iris['feature_names'])"
      ],
      "metadata": {
        "colab": {
          "base_uri": "https://localhost:8080/"
        },
        "id": "nMeCy_VxvDfy",
        "outputId": "36924ec1-9d79-4622-bfd0-e7329acaf333"
      },
      "execution_count": null,
      "outputs": [
        {
          "output_type": "stream",
          "name": "stdout",
          "text": [
            "Features= ['sepal length (cm)', 'sepal width (cm)', 'petal length (cm)', 'petal width (cm)']\n"
          ]
        }
      ]
    },
    {
      "cell_type": "code",
      "source": [
        "print(\"Class labels=\",iris['target_names'])"
      ],
      "metadata": {
        "colab": {
          "base_uri": "https://localhost:8080/"
        },
        "id": "9XLIyHn7vDrD",
        "outputId": "1b41c6c7-d11a-4c4c-981b-7de31019d020"
      },
      "execution_count": null,
      "outputs": [
        {
          "output_type": "stream",
          "name": "stdout",
          "text": [
            "Class labels= ['setosa' 'versicolor' 'virginica']\n"
          ]
        }
      ]
    },
    {
      "cell_type": "code",
      "source": [
        "x=df\n",
        "y=iris['target']\n",
        "x_train,x_test,y_train,y_test=train_test_split(x,y,test_size=0.2,random_state=42)\n",
        "knn=KNeighborsClassifier(n_neighbors=5)\n",
        "knn.fit(x_train,y_train)\n",
        "y_pred=knn.predict(x_test)"
      ],
      "metadata": {
        "id": "qADR2LVEw5ga"
      },
      "execution_count": null,
      "outputs": []
    },
    {
      "cell_type": "code",
      "source": [
        "cm=metrics.confusion_matrix(y_test,y_pred)\n",
        "print(\"confusion matrix is \",cm)"
      ],
      "metadata": {
        "colab": {
          "base_uri": "https://localhost:8080/"
        },
        "id": "YQp9SY70w5xq",
        "outputId": "9e456eb8-67ed-42e0-b1cc-ec6f34dd2d41"
      },
      "execution_count": null,
      "outputs": [
        {
          "output_type": "stream",
          "name": "stdout",
          "text": [
            "confusion matrix is  [[10  0  0]\n",
            " [ 0  9  0]\n",
            " [ 0  0 11]]\n"
          ]
        }
      ]
    },
    {
      "cell_type": "code",
      "source": [
        "print(\"Accuracy is \",metrics.accuracy_score(y_test,y_pred))"
      ],
      "metadata": {
        "colab": {
          "base_uri": "https://localhost:8080/"
        },
        "id": "wLlqc9gxyQYe",
        "outputId": "82d39c41-60c5-4f69-99a3-3c1d9d4502cd"
      },
      "execution_count": null,
      "outputs": [
        {
          "output_type": "stream",
          "name": "stdout",
          "text": [
            "Accuracy is  1.0\n"
          ]
        }
      ]
    },
    {
      "cell_type": "code",
      "source": [
        "error_rate=1-metrics.accuracy_score(y_test,y_pred)\n",
        "print(\"Error rate= \",error_rate)"
      ],
      "metadata": {
        "colab": {
          "base_uri": "https://localhost:8080/"
        },
        "id": "PfmHqga0w57k",
        "outputId": "a2a50a0c-e0fd-487f-a0a2-c0859701a35c"
      },
      "execution_count": null,
      "outputs": [
        {
          "output_type": "stream",
          "name": "stdout",
          "text": [
            "Error rate=  0.0\n"
          ]
        }
      ]
    },
    {
      "cell_type": "code",
      "source": [
        "x_new=np.array([[5,2.4,3.7,1.6]])\n",
        "prediction = knn.predict(x_new)\n",
        "print(\"New data sample is predicted as \",iris['target_names'][prediction])"
      ],
      "metadata": {
        "colab": {
          "base_uri": "https://localhost:8080/"
        },
        "id": "YP4_WYSmyyDf",
        "outputId": "b2a8619c-6823-4c9b-9138-a6324ffa06b7"
      },
      "execution_count": null,
      "outputs": [
        {
          "output_type": "stream",
          "name": "stdout",
          "text": [
            "New data sample is predicted as  ['versicolor']\n"
          ]
        }
      ]
    },
    {
      "cell_type": "code",
      "source": [],
      "metadata": {
        "id": "NFVZAyU_zd9f"
      },
      "execution_count": null,
      "outputs": []
    }
  ]
}